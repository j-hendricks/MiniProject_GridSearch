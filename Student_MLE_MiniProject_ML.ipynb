{
 "cells": [
  {
   "cell_type": "markdown",
   "metadata": {
    "id": "Yzr5Eo_qxHQi"
   },
   "source": [
    "# Mini Project: Build a Machine Learning Model"
   ]
  },
  {
   "cell_type": "markdown",
   "metadata": {
    "id": "_NvUsqw8xg26"
   },
   "source": [
    "## Predict Total Fare on the NYC Taxi Dataset\n",
    "\n",
    "Welcome to the NYC Taxi Fare Prediction project! In this Colab, we will continue using the NYC Taxi Dataset to predict the fare amount for taxi rides using a subset of available features. We will go through three main stages: building a baseline model, creating a full model, and performing hyperparameter tuning to enhance our predictions.\n",
    "\n",
    "Now that you've completed exploratory data analysis on this dataset you should have a good understanding of the feature space.\n",
    "\n",
    "## Project Objectives\n",
    "\n",
    "The primary objectives of this project are as follows:\n",
    "\n",
    "Baseline Model: We will start by building a simple baseline model to establish a benchmark for our predictions. This model will serve as a starting point to compare the performance of our subsequent models.\n",
    "\n",
    "Full Model: Next, we will develop a more comprehensive model that leverages machine learning techniques to improve prediction accuracy. We will use Scikit-Learn's model pipeline to build a framework that enables rapid experimentation.\n",
    "\n",
    "Hyperparameter Tuning: Lastly, we will optimize our full model by fine-tuning its hyperparameters. By systematically adjusting the parameters that control model behavior, we aim to achieve the best possible performance for our prediction task."
   ]
  },
  {
   "cell_type": "code",
   "execution_count": 2,
   "metadata": {
    "id": "lbJFWLELlI6N"
   },
   "outputs": [],
   "source": [
    "import pandas as pd\n",
    "import numpy as np\n",
    "import matplotlib.pyplot as plt\n",
    "from sklearn.model_selection import train_test_split, GridSearchCV\n",
    "from sklearn.metrics import mean_absolute_error\n",
    "\n",
    "from sklearn.pipeline import Pipeline\n",
    "from sklearn.preprocessing import StandardScaler, OneHotEncoder, FunctionTransformer\n",
    "from sklearn.compose import ColumnTransformer\n",
    "from sklearn.linear_model import LinearRegression\n",
    "from sklearn.ensemble import RandomForestRegressor"
   ]
  },
  {
   "cell_type": "markdown",
   "metadata": {
    "id": "gJtGZwwG2WTW"
   },
   "source": [
    "Load the NYC taxi dataset into a Pandas DataFrame and do a few basic checks to ensure the data is loaded properly. Note, there are several months of data that can be used. For simplicity, use the Yellow Taxi 2022-01 parquet file [here](https://d37ci6vzurychx.cloudfront.net/trip-data/yellow_tripdata_2022-01.parquet). Here are your tasks:\n",
    "\n",
    "  1. Load the `yellow_tripdata_2022-01.parquet` file into Pandas.\n",
    "  2. Print the first 5 rows of data.\n",
    "  3. Drop any rows of data that contain NULL values.\n",
    "  4. Create a new feature, 'trip_duration' that captures the duration of the trip in minutes.\n",
    "  5. Create a varible named 'target_variable' to store the name of the thing we're trying to predict, 'total_amount'.\n",
    "  6. Create a list called 'feature_cols' containing the feature names that we'll be using to predict our target variable. The list should contain 'VendorID', 'trip_distance', 'payment_type', 'PULocationID', 'DOLocationID', and 'trip_duration'."
   ]
  },
  {
   "cell_type": "code",
   "execution_count": 66,
   "metadata": {
    "id": "db--eb8zlNNg"
   },
   "outputs": [],
   "source": [
    "# Load the dataset into a pandas DataFrame (from https://www.nyc.gov/site/tlc/about/tlc-trip-record-data.page)\n",
    "df = pd.read_parquet('/Users/johnwhendricks/Desktop/yellow_tripdata_2021-01_ML', engine='pyarrow')"
   ]
  },
  {
   "cell_type": "code",
   "execution_count": 67,
   "metadata": {
    "id": "TslBuHoXl_o1"
   },
   "outputs": [
    {
     "data": {
      "text/html": [
       "<div>\n",
       "<style scoped>\n",
       "    .dataframe tbody tr th:only-of-type {\n",
       "        vertical-align: middle;\n",
       "    }\n",
       "\n",
       "    .dataframe tbody tr th {\n",
       "        vertical-align: top;\n",
       "    }\n",
       "\n",
       "    .dataframe thead th {\n",
       "        text-align: right;\n",
       "    }\n",
       "</style>\n",
       "<table border=\"1\" class=\"dataframe\">\n",
       "  <thead>\n",
       "    <tr style=\"text-align: right;\">\n",
       "      <th></th>\n",
       "      <th>VendorID</th>\n",
       "      <th>tpep_pickup_datetime</th>\n",
       "      <th>tpep_dropoff_datetime</th>\n",
       "      <th>passenger_count</th>\n",
       "      <th>trip_distance</th>\n",
       "      <th>RatecodeID</th>\n",
       "      <th>store_and_fwd_flag</th>\n",
       "      <th>PULocationID</th>\n",
       "      <th>DOLocationID</th>\n",
       "      <th>payment_type</th>\n",
       "      <th>fare_amount</th>\n",
       "      <th>extra</th>\n",
       "      <th>mta_tax</th>\n",
       "      <th>tip_amount</th>\n",
       "      <th>tolls_amount</th>\n",
       "      <th>improvement_surcharge</th>\n",
       "      <th>total_amount</th>\n",
       "      <th>congestion_surcharge</th>\n",
       "      <th>airport_fee</th>\n",
       "    </tr>\n",
       "  </thead>\n",
       "  <tbody>\n",
       "    <tr>\n",
       "      <th>1623290</th>\n",
       "      <td>2</td>\n",
       "      <td>2022-01-22 11:41:27</td>\n",
       "      <td>2022-01-22 11:46:25</td>\n",
       "      <td>1.0</td>\n",
       "      <td>0.87</td>\n",
       "      <td>1.0</td>\n",
       "      <td>N</td>\n",
       "      <td>237</td>\n",
       "      <td>43</td>\n",
       "      <td>1</td>\n",
       "      <td>5.5</td>\n",
       "      <td>0.0</td>\n",
       "      <td>0.5</td>\n",
       "      <td>1.76</td>\n",
       "      <td>0.00</td>\n",
       "      <td>0.3</td>\n",
       "      <td>10.56</td>\n",
       "      <td>2.5</td>\n",
       "      <td>0.0</td>\n",
       "    </tr>\n",
       "    <tr>\n",
       "      <th>2375352</th>\n",
       "      <td>2</td>\n",
       "      <td>2022-01-31 19:51:47</td>\n",
       "      <td>2022-01-31 20:05:59</td>\n",
       "      <td>1.0</td>\n",
       "      <td>3.28</td>\n",
       "      <td>1.0</td>\n",
       "      <td>N</td>\n",
       "      <td>113</td>\n",
       "      <td>87</td>\n",
       "      <td>2</td>\n",
       "      <td>11.0</td>\n",
       "      <td>1.0</td>\n",
       "      <td>0.5</td>\n",
       "      <td>0.00</td>\n",
       "      <td>0.00</td>\n",
       "      <td>0.3</td>\n",
       "      <td>15.30</td>\n",
       "      <td>2.5</td>\n",
       "      <td>0.0</td>\n",
       "    </tr>\n",
       "    <tr>\n",
       "      <th>778682</th>\n",
       "      <td>1</td>\n",
       "      <td>2022-01-12 06:16:47</td>\n",
       "      <td>2022-01-12 06:23:01</td>\n",
       "      <td>1.0</td>\n",
       "      <td>1.60</td>\n",
       "      <td>1.0</td>\n",
       "      <td>N</td>\n",
       "      <td>186</td>\n",
       "      <td>162</td>\n",
       "      <td>1</td>\n",
       "      <td>7.0</td>\n",
       "      <td>2.5</td>\n",
       "      <td>0.5</td>\n",
       "      <td>0.70</td>\n",
       "      <td>0.00</td>\n",
       "      <td>0.3</td>\n",
       "      <td>11.00</td>\n",
       "      <td>2.5</td>\n",
       "      <td>0.0</td>\n",
       "    </tr>\n",
       "    <tr>\n",
       "      <th>1849181</th>\n",
       "      <td>1</td>\n",
       "      <td>2022-01-25 07:45:18</td>\n",
       "      <td>2022-01-25 07:52:48</td>\n",
       "      <td>1.0</td>\n",
       "      <td>1.30</td>\n",
       "      <td>1.0</td>\n",
       "      <td>N</td>\n",
       "      <td>186</td>\n",
       "      <td>107</td>\n",
       "      <td>1</td>\n",
       "      <td>7.0</td>\n",
       "      <td>2.5</td>\n",
       "      <td>0.5</td>\n",
       "      <td>2.05</td>\n",
       "      <td>0.00</td>\n",
       "      <td>0.3</td>\n",
       "      <td>12.35</td>\n",
       "      <td>2.5</td>\n",
       "      <td>0.0</td>\n",
       "    </tr>\n",
       "    <tr>\n",
       "      <th>2126669</th>\n",
       "      <td>2</td>\n",
       "      <td>2022-01-28 05:02:47</td>\n",
       "      <td>2022-01-28 05:24:34</td>\n",
       "      <td>5.0</td>\n",
       "      <td>18.79</td>\n",
       "      <td>2.0</td>\n",
       "      <td>N</td>\n",
       "      <td>263</td>\n",
       "      <td>132</td>\n",
       "      <td>1</td>\n",
       "      <td>52.0</td>\n",
       "      <td>0.0</td>\n",
       "      <td>0.5</td>\n",
       "      <td>9.21</td>\n",
       "      <td>6.12</td>\n",
       "      <td>0.3</td>\n",
       "      <td>70.63</td>\n",
       "      <td>2.5</td>\n",
       "      <td>0.0</td>\n",
       "    </tr>\n",
       "  </tbody>\n",
       "</table>\n",
       "</div>"
      ],
      "text/plain": [
       "         VendorID tpep_pickup_datetime tpep_dropoff_datetime  passenger_count  \\\n",
       "1623290         2  2022-01-22 11:41:27   2022-01-22 11:46:25              1.0   \n",
       "2375352         2  2022-01-31 19:51:47   2022-01-31 20:05:59              1.0   \n",
       "778682          1  2022-01-12 06:16:47   2022-01-12 06:23:01              1.0   \n",
       "1849181         1  2022-01-25 07:45:18   2022-01-25 07:52:48              1.0   \n",
       "2126669         2  2022-01-28 05:02:47   2022-01-28 05:24:34              5.0   \n",
       "\n",
       "         trip_distance  RatecodeID store_and_fwd_flag  PULocationID  \\\n",
       "1623290           0.87         1.0                  N           237   \n",
       "2375352           3.28         1.0                  N           113   \n",
       "778682            1.60         1.0                  N           186   \n",
       "1849181           1.30         1.0                  N           186   \n",
       "2126669          18.79         2.0                  N           263   \n",
       "\n",
       "         DOLocationID  payment_type  fare_amount  extra  mta_tax  tip_amount  \\\n",
       "1623290            43             1          5.5    0.0      0.5        1.76   \n",
       "2375352            87             2         11.0    1.0      0.5        0.00   \n",
       "778682            162             1          7.0    2.5      0.5        0.70   \n",
       "1849181           107             1          7.0    2.5      0.5        2.05   \n",
       "2126669           132             1         52.0    0.0      0.5        9.21   \n",
       "\n",
       "         tolls_amount  improvement_surcharge  total_amount  \\\n",
       "1623290          0.00                    0.3         10.56   \n",
       "2375352          0.00                    0.3         15.30   \n",
       "778682           0.00                    0.3         11.00   \n",
       "1849181          0.00                    0.3         12.35   \n",
       "2126669          6.12                    0.3         70.63   \n",
       "\n",
       "         congestion_surcharge  airport_fee  \n",
       "1623290                   2.5          0.0  \n",
       "2375352                   2.5          0.0  \n",
       "778682                    2.5          0.0  \n",
       "1849181                   2.5          0.0  \n",
       "2126669                   2.5          0.0  "
      ]
     },
     "execution_count": 67,
     "metadata": {},
     "output_type": "execute_result"
    }
   ],
   "source": [
    "# Display the first few rows of the dataset\n",
    "# taking a sample of 10,000 so that the model runs more quickly\n",
    "df = df.sample(int(10e4))\n",
    "df.head()"
   ]
  },
  {
   "cell_type": "code",
   "execution_count": 68,
   "metadata": {
    "id": "4ybS7HV6HHQL"
   },
   "outputs": [],
   "source": [
    "# Drop rows with missing values.\n",
    "df.dropna(inplace=True)\n"
   ]
  },
  {
   "cell_type": "code",
   "execution_count": 69,
   "metadata": {
    "id": "ZC4p9PEjnSm8"
   },
   "outputs": [
    {
     "data": {
      "text/plain": [
       "1623290    0\n",
       "2375352    0\n",
       "778682     0\n",
       "1849181    0\n",
       "2126669    0\n",
       "          ..\n",
       "105884     0\n",
       "1453886    0\n",
       "125527     0\n",
       "1261373    0\n",
       "201917     0\n",
       "Name: trip_duration, Length: 97087, dtype: int64"
      ]
     },
     "execution_count": 69,
     "metadata": {},
     "output_type": "execute_result"
    }
   ],
   "source": [
    "# Create new feature, 'trip_duration'.\n",
    "df['trip_duration'] = (df['tpep_dropoff_datetime'] - df['tpep_pickup_datetime']).dt.days\n",
    "df.trip_duration"
   ]
  },
  {
   "cell_type": "code",
   "execution_count": 70,
   "metadata": {},
   "outputs": [
    {
     "name": "stdout",
     "output_type": "stream",
     "text": [
      "<class 'pandas.core.frame.DataFrame'>\n",
      "Int64Index: 97087 entries, 1623290 to 201917\n",
      "Data columns (total 20 columns):\n",
      " #   Column                 Non-Null Count  Dtype         \n",
      "---  ------                 --------------  -----         \n",
      " 0   VendorID               97087 non-null  int64         \n",
      " 1   tpep_pickup_datetime   97087 non-null  datetime64[ns]\n",
      " 2   tpep_dropoff_datetime  97087 non-null  datetime64[ns]\n",
      " 3   passenger_count        97087 non-null  float64       \n",
      " 4   trip_distance          97087 non-null  float64       \n",
      " 5   RatecodeID             97087 non-null  float64       \n",
      " 6   store_and_fwd_flag     97087 non-null  object        \n",
      " 7   PULocationID           97087 non-null  int64         \n",
      " 8   DOLocationID           97087 non-null  int64         \n",
      " 9   payment_type           97087 non-null  int64         \n",
      " 10  fare_amount            97087 non-null  float64       \n",
      " 11  extra                  97087 non-null  float64       \n",
      " 12  mta_tax                97087 non-null  float64       \n",
      " 13  tip_amount             97087 non-null  float64       \n",
      " 14  tolls_amount           97087 non-null  float64       \n",
      " 15  improvement_surcharge  97087 non-null  float64       \n",
      " 16  total_amount           97087 non-null  float64       \n",
      " 17  congestion_surcharge   97087 non-null  float64       \n",
      " 18  airport_fee            97087 non-null  float64       \n",
      " 19  trip_duration          97087 non-null  int64         \n",
      "dtypes: datetime64[ns](2), float64(12), int64(5), object(1)\n",
      "memory usage: 15.6+ MB\n"
     ]
    }
   ],
   "source": [
    "df.info()"
   ]
  },
  {
   "cell_type": "code",
   "execution_count": 71,
   "metadata": {
    "id": "R5d84tINrG9d"
   },
   "outputs": [
    {
     "data": {
      "text/plain": [
       "Index(['VendorID', 'tpep_pickup_datetime', 'tpep_dropoff_datetime',\n",
       "       'passenger_count', 'trip_distance', 'RatecodeID', 'store_and_fwd_flag',\n",
       "       'PULocationID', 'DOLocationID', 'payment_type', 'fare_amount', 'extra',\n",
       "       'mta_tax', 'tip_amount', 'tolls_amount', 'improvement_surcharge',\n",
       "       'total_amount', 'congestion_surcharge', 'airport_fee', 'trip_duration'],\n",
       "      dtype='object')"
      ]
     },
     "execution_count": 71,
     "metadata": {},
     "output_type": "execute_result"
    }
   ],
   "source": [
    "# Create a list called feature_col to store column names\n",
    "feature_col = df.columns\n",
    "feature_col"
   ]
  },
  {
   "cell_type": "markdown",
   "metadata": {
    "id": "eq2kgevn51LY"
   },
   "source": [
    "Splitting a dataset into training and test sets is a crucial step in machine learning model development. It allows us to evaluate the performance and generalization ability of our models accurately. The training set is used to train the model, while the test set serves as an independent sample for evaluating its performance.\n",
    "\n",
    "1. **Model Training**: The training set is used to fit the model, allowing it to learn the underlying patterns and relationships between the features and the target variable. By exposing the model to a diverse range of examples in the training set, it can capture the underlying structure of the data.\n",
    "\n",
    "2. **Model Evaluation**: The test set, which is independent of the training set, is crucial for evaluating how well the trained model generalizes to unseen data. It provides an unbiased assessment of the model's performance on new instances. By measuring the model's accuracy, precision, recall, or other evaluation metrics on the test set, we can estimate how well the model will perform on unseen data.\n",
    "\n",
    "3. **Preventing Overfitting**: Overfitting occurs when a model learns the training data's noise and idiosyncrasies instead of the underlying patterns. By evaluating the model on the test set, we can identify if the model is overfitting. If the model performs significantly worse on the test set compared to the training set, it indicates overfitting. In such cases, we might need to adjust the model, feature selection, or regularization techniques to improve generalization.\n",
    "\n",
    "4. **Hyperparameter Tuning**: Splitting the dataset allows us to perform hyperparameter tuning on the model. Hyperparameters are configuration settings that control the learning process, such as learning rate, regularization strength, or the number of hidden layers in a neural network. By using a validation set (often created from a portion of the training set), we can iteratively adjust the hyperparameters and select the best combination that maximizes the model's performance on the validation set. The final evaluation on the test set provides an unbiased estimate of the model's performance.\n",
    "\n",
    "By splitting the dataset into training and test sets, we can ensure that our models are both well-trained and accurately evaluated. This separation helps us understand how the model will perform on new, unseen data, which is critical for assessing its effectiveness and making informed decisions about its deployment.\n",
    "\n",
    "Here is your task:\n",
    "\n",
    "  1. Use Scikit-Learn's [train_test_split](https://scikit-learn.org/stable/modules/generated/sklearn.model_selection.train_test_split.html) to split the data into training and test sets. Don't forget to set the random state."
   ]
  },
  {
   "cell_type": "code",
   "execution_count": 72,
   "metadata": {
    "id": "grdbA-I6rMGC"
   },
   "outputs": [],
   "source": [
    "# Split dataset into training and test sets\n",
    "X = df.drop(columns = 'total_amount')\n",
    "y = df.total_amount\n",
    "X_train, X_test, y_train, y_test = train_test_split(X,y,random_state = 42)"
   ]
  },
  {
   "cell_type": "markdown",
   "metadata": {
    "id": "VIAhf_oA7PGx"
   },
   "source": [
    "The importance of a baseline model, even if it uses a simple strategy like always predicting the mean, cannot be understated. Here's why a baseline model is valuable:\n",
    "\n",
    "1. **Performance Comparison**: A baseline model serves as a reference point for evaluating the performance of more sophisticated models. By establishing a simple yet reasonable baseline, we can determine whether our advanced models offer any significant improvement over this basic approach. It helps us set realistic expectations and gauge the effectiveness of our efforts.\n",
    "\n",
    "2. **Model Complexity**: A baseline model provides insight into the complexity required to solve the prediction task. If a simple strategy like predicting the median performs reasonably well, it suggests that the problem might not necessitate complex modeling techniques. Conversely, if the baseline model performs poorly, it indicates the presence of more intricate patterns that need to be captured by more sophisticated models.\n",
    "\n",
    "3. **Minimum Performance Requirement**: A baseline model can establish a minimum performance requirement for a predictive task. If we cannot outperform the baseline, it suggests that our models have failed to capture even the most fundamental relationships within the data. In such cases, we may need to revisit our data preprocessing steps, feature engineering techniques, or consider other external factors affecting the task.\n",
    "\n",
    "4. **Identifying Data Issues**: A baseline model can help identify potential issues within the dataset. If the baseline model performs poorly, it may indicate problems like missing values, outliers, or data inconsistencies. These issues can be further investigated and resolved to improve the overall model performance.\n",
    "\n",
    "While a baseline model like always predicting the median may not offer the highest prediction accuracy, its importance lies in its role as a starting point for model development and evaluation. It provides a solid foundation for comparing and assessing the performance of more complex models, ensuring that any improvements made are meaningful and significant.\n",
    "\n",
    "Here is your task:\n",
    "\n",
    "  1. Create a model that always predicts the mean total fare of the training dataset. Use Scikit-Learn's [mean_absolute_error](https://scikit-learn.org/stable/modules/generated/sklearn.metrics.mean_absolute_error.html) to evaluate this model. Is it any good?"
   ]
  },
  {
   "cell_type": "code",
   "execution_count": 73,
   "metadata": {
    "id": "6vV1UsNTFX22"
   },
   "outputs": [
    {
     "name": "stdout",
     "output_type": "stream",
     "text": [
      "mean: 18.901207718200606\n",
      "baseline_msa: 8.990569584206588\n"
     ]
    }
   ],
   "source": [
    "# Create a baseline for mean absolute error of total amount\n",
    "baseline_model = y_train.mean()\n",
    "print('mean:',baseline_model)\n",
    "msa_baseline = mean_absolute_error(y_test, np.repeat(baseline_model,len(y_test))) \n",
    "print('baseline_msa:',msa_baseline)"
   ]
  },
  {
   "cell_type": "markdown",
   "metadata": {
    "id": "sCKDGKpg8MVb"
   },
   "source": [
    "With a baseline metric in place, we can try to build a machine learning model. Obviously, if the model can't beat the baseline then there are some major issues to be resolved.\n",
    "\n",
    "It's always a good idea to start with a simple machine learning model, like linear regression, and build upon it if necessary.\n",
    "\n",
    "Here are your tasks:\n",
    "\n",
    "  1. Use Scikit-Learn's [ColumnTransformer](https://scikit-learn.org/stable/modules/generated/sklearn.compose.ColumnTransformer.html) to preprocess the categorical and continuous features independently. Apply the [StandardScaler](https://scikit-learn.org/stable/modules/generated/sklearn.preprocessing.StandardScaler.html) to the continuous columns and [OneHotEncoder](https://scikit-learn.org/stable/modules/generated/sklearn.preprocessing.OneHotEncoder.html) to the categorical columns.\n",
    "\n",
    "  One-hot encoding is a popular technique used to represent categorical variables numerically in machine learning models. It transforms categorical features into a binary vector representation, where each category is represented by a binary column. Here's an explanation of one-hot encoding:\n",
    "\n",
    "  When working with categorical variables, such as colors (e.g., red, blue, green) or vehicle types (e.g., car, truck, motorcycle), machine learning algorithms often require numerical inputs. However, directly assigning numerical values to categories can introduce unintended relationships or orderings between them. For example, assigning the values 0, 1, and 2 to the categories red, blue, and green may imply a sequential relationship, which is not desired.\n",
    "\n",
    "  One-hot encoding solves this problem by creating new binary columns, equal to the number of unique categories in the original feature. Each binary column represents a specific category and takes a value of 1 if the data point belongs to that category, and 0 otherwise. This encoding ensures that no implicit ordering or relationship exists between the categories.\n",
    "\n",
    "  2. Integrate the preprocessor in the previous step with Scikit-Learn's [LinearRegression](https://scikit-learn.org/stable/modules/generated/sklearn.linear_model.LinearRegression.html) model using a [Pipeline](https://scikit-learn.org/stable/modules/generated/sklearn.pipeline.Pipeline.html).\n",
    "\n",
    "  3. Train the pipeline on the training data.\n",
    "\n",
    "  4. Evaluate the model using mean absolute error as a metric on the test data. Does the model beat the baseline?\n"
   ]
  },
  {
   "cell_type": "code",
   "execution_count": 74,
   "metadata": {
    "id": "KckTWwsiah5p"
   },
   "outputs": [],
   "source": [
    "# Use Scikit-Learn's ColumnTransformer to preprocess the categorical and\n",
    "# continuous features independently.\n",
    "categorical_columns = X_train.select_dtypes(include=['object','string']).columns\n",
    "numerical_columns = X_train.select_dtypes(include=['int64','float64']).columns\n",
    "\n",
    "transformers = [('categorical',OneHotEncoder(),categorical_columns),('numerical',StandardScaler(),numerical_columns)]\n",
    "col_trans = ColumnTransformer(transformers=transformers)"
   ]
  },
  {
   "cell_type": "code",
   "execution_count": 75,
   "metadata": {
    "id": "yVzxrDu6w506"
   },
   "outputs": [],
   "source": [
    "# Create a pipeline object containing the column transformations and regression\n",
    "# model.\n",
    "model = LinearRegression()\n",
    "pipeline = Pipeline(steps=[(\"prep\",col_trans),(\"m\",model)])"
   ]
  },
  {
   "cell_type": "code",
   "execution_count": 76,
   "metadata": {
    "id": "7Dhli3fkalIS"
   },
   "outputs": [
    {
     "data": {
      "text/plain": [
       "Pipeline(steps=[('prep',\n",
       "                 ColumnTransformer(transformers=[('categorical',\n",
       "                                                  OneHotEncoder(),\n",
       "                                                  Index(['store_and_fwd_flag'], dtype='object')),\n",
       "                                                 ('numerical', StandardScaler(),\n",
       "                                                  Index(['VendorID', 'passenger_count', 'trip_distance', 'RatecodeID',\n",
       "       'PULocationID', 'DOLocationID', 'payment_type', 'fare_amount', 'extra',\n",
       "       'mta_tax', 'tip_amount', 'tolls_amount', 'improvement_surcharge',\n",
       "       'congestion_surcharge', 'airport_fee', 'trip_duration'],\n",
       "      dtype='object'))])),\n",
       "                ('m', LinearRegression())])"
      ]
     },
     "execution_count": 76,
     "metadata": {},
     "output_type": "execute_result"
    }
   ],
   "source": [
    "# Fit the pipeline on the training data.\n",
    "pipeline.fit(X_train,y_train)"
   ]
  },
  {
   "cell_type": "code",
   "execution_count": 77,
   "metadata": {
    "id": "mUkcHyJpamxC"
   },
   "outputs": [
    {
     "name": "stdout",
     "output_type": "stream",
     "text": [
      "0.13516415754196104\n"
     ]
    }
   ],
   "source": [
    "# Make predictions on the test data.\n",
    "predictions = pipeline.predict(X_test)\n",
    "msa_lin_reg = mean_absolute_error(y_test,predictions)\n",
    "print(msa_lin_reg)"
   ]
  },
  {
   "cell_type": "markdown",
   "metadata": {
    "id": "d1669p0UBHrx"
   },
   "source": [
    "Random Forest Regression and Linear Regression are two commonly used regression algorithms, each with its own advantages and suitability for different scenarios. Random Forest Regression offers several advantages over Linear Regression, including:\n",
    "\n",
    "1. **Non-linearity**: Random Forest Regressor is capable of capturing non-linear relationships between features and the target variable. In contrast, Linear Regression assumes a linear relationship between the features and the target. When faced with non-linear relationships or complex feature interactions, Random Forest Regressor can provide more accurate predictions.\n",
    "\n",
    "2. **Robustness to Outliers**: Random Forest Regressor is generally more robust to outliers compared to Linear Regression. Outliers can disproportionately impact the coefficients and predictions of Linear Regression models. However, as an ensemble of decision trees, Random Forest Regressor can mitigate the effect of outliers by averaging predictions from multiple trees.\n",
    "\n",
    "3. **Feature Importance**: Random Forest Regressor provides a measure of feature importance, which helps identify the most influential features for making predictions. This information is useful for feature selection, understanding the underlying relationships in the data, and gaining insights into the problem domain. Unlike Linear Regression, which provides coefficient values indicating the direction and magnitude of relationships, Random Forest Regressor explicitly highlights feature importance.\n",
    "\n",
    "4. **Handling of Categorical Variables**: Random Forest Regressor can effectively handle categorical variables without requiring pre-processing steps like one-hot encoding. It can directly incorporate categorical variables into the model, making it more convenient when working with mixed data types. In contrast, Linear Regression often requires categorical variables to be encoded or transformed before use.\n",
    "\n",
    "5. **Handling of High-Dimensional Data**: Random Forest Regressor can handle datasets with a large number of features (high dimensionality) by automatically selecting subsets of features during the construction of individual decision trees. This reduces the risk of overfitting, which is a concern with Linear Regression when dealing with high-dimensional data.\n",
    "\n",
    "6. **Resistance to Multicollinearity**: Random Forest Regressor is less affected by multicollinearity, which occurs when predictor variables are highly correlated. In Linear Regression, highly correlated features can lead to unstable coefficient estimates, making it challenging to interpret the individual effects of each feature. Random Forest Regressor, as an ensemble approach, is less impacted by multicollinearity because each tree is built independently.\n",
    "\n",
    "Here are your tasks:\n",
    "\n",
    "  1. Build a Random Forest Regressor model using Scikit-Learn's [RandomForestRegressor](https://scikit-learn.org/stable/modules/generated/sklearn.ensemble.RandomForestRegressor.html) and train it on the train data.\n",
    "\n",
    "  2. Evaluate the performance of the model on the test data using mean absolute error as a metric. Mess around with various input parameter configurations to see how they affect the model. Can you beat the performance of the linear regression model?"
   ]
  },
  {
   "cell_type": "code",
   "execution_count": 78,
   "metadata": {
    "id": "QU4tTQKl4q_n"
   },
   "outputs": [
    {
     "data": {
      "text/plain": [
       "Pipeline(steps=[('prep',\n",
       "                 ColumnTransformer(transformers=[('categorical',\n",
       "                                                  OneHotEncoder(),\n",
       "                                                  Index(['store_and_fwd_flag'], dtype='object')),\n",
       "                                                 ('numerical', StandardScaler(),\n",
       "                                                  Index(['VendorID', 'passenger_count', 'trip_distance', 'RatecodeID',\n",
       "       'PULocationID', 'DOLocationID', 'payment_type', 'fare_amount', 'extra',\n",
       "       'mta_tax', 'tip_amount', 'tolls_amount', 'improvement_surcharge',\n",
       "       'congestion_surcharge', 'airport_fee', 'trip_duration'],\n",
       "      dtype='object'))])),\n",
       "                ('m', RandomForestRegressor(random_state=42))])"
      ]
     },
     "execution_count": 78,
     "metadata": {},
     "output_type": "execute_result"
    }
   ],
   "source": [
    "# Build random forest regressor model\n",
    "rf = RandomForestRegressor(random_state=42)\n",
    "pipeline = Pipeline(steps=[(\"prep\",col_trans),(\"m\",rf)])\n",
    "pipeline.fit(X_train,y_train)"
   ]
  },
  {
   "cell_type": "code",
   "execution_count": null,
   "metadata": {},
   "outputs": [],
   "source": []
  },
  {
   "cell_type": "code",
   "execution_count": 79,
   "metadata": {
    "id": "P6SIX9EK5RYi"
   },
   "outputs": [
    {
     "name": "stdout",
     "output_type": "stream",
     "text": [
      "0.08764938612394774\n"
     ]
    }
   ],
   "source": [
    "# Make predictions on the test data\n",
    "preds = pipeline.predict(X_test)\n",
    "msa_rf = mean_absolute_error(y_test,preds)\n",
    "print(msa_rf)"
   ]
  },
  {
   "cell_type": "markdown",
   "metadata": {
    "id": "5CuYk9WBFF2X"
   },
   "source": [
    "Hyperparameter tuning plays a critical role in machine learning model development. It involves selecting the optimal values for the hyperparameters, which are configuration settings that control the behavior of the learning algorithm. Here's why hyperparameter tuning is so important in ML:\n",
    "\n",
    "1. **Optimizing Model Performance**: The choice of hyperparameters can significantly impact the model's performance. By fine-tuning the hyperparameters, we can improve the model's accuracy, precision, recall, or other performance metrics. It helps to extract the maximum predictive power from the chosen algorithm and ensures that the model is well-suited to the specific problem at hand.\n",
    "\n",
    "2. **Avoiding Overfitting and Underfitting**: Hyperparameter tuning helps strike a balance between overfitting and underfitting.\n",
    "\n",
    "3. **Exploring Model Complexity**: Hyperparameter tuning enables us to explore the complexity of the model. For instance, in algorithms like decision trees or neural networks, we can adjust the number of layers, the number of neurons, or the maximum depth of the tree. By systematically modifying these hyperparameters, we can understand how different levels of complexity impact the model's performance and find the right balance between simplicity and complexity.\n",
    "\n",
    "Note, there are multiple approaches to hyperparemeter tuning.  \n",
    "\n",
    "While grid search is the easiest to understand and implement there are many advantages of Bayesian search over grid search for hyperparameter tuning:\n",
    "\n",
    "1. **Efficiency**: Bayesian search is generally more efficient than grid search. Grid search explores all possible combinations of hyperparameter values, which can be computationally expensive and time-consuming, especially when dealing with a large number of hyperparameters or a wide range of values. Bayesian search, on the other hand, intelligently selects the next hyperparameter configuration to evaluate based on the results of previous evaluations. It focuses on areas of the hyperparameter space that are more likely to yield better performance, reducing the number of evaluations needed.\n",
    "\n",
    "2. **Flexibility**: Bayesian search is flexible in handling continuous and discrete hyperparameters. It can handle both types of hyperparameters naturally and effectively. In contrast, grid search is more suitable for discrete hyperparameters but may struggle with continuous ones, as it requires discretization or defining a finite set of values to search over.\n",
    "\n",
    "3. **Adaptive Search**: Bayesian search adapts its search strategy based on the results of previous evaluations. It maintains a probability distribution over the hyperparameter space, updating it with each evaluation. This allows it to dynamically allocate more evaluations to promising regions and explore unexplored areas. In contrast, grid search follows a fixed and predefined search grid, regardless of the results of previous evaluations.\n",
    "\n",
    "4. **Better Convergence**: Bayesian search has the potential to converge to the optimal hyperparameter configuration more quickly.\n",
    "\n",
    "Here are your tasks:\n",
    "\n",
    "  1. Perform a grid-search on a Random Forest Regressor model. Only search the space for the parameters 'n_estimators', 'max_depth', and 'min_samples_split'. Note, this can take some time to run. Make sure you set reasonable boundaries for the search space. Use Scikit-Learn's [GridSearchCV](https://scikit-learn.org/stable/modules/generated/sklearn.model_selection.GridSearchCV.html) method.\n",
    "\n",
    "  2. After you've identified the best parameters, train a random forest regression model using these parameters on the full training data.\n",
    "\n",
    "  3. Evaluate the model from the previous step using the test data. How does your model perform?"
   ]
  },
  {
   "cell_type": "code",
   "execution_count": 81,
   "metadata": {
    "id": "HlmZeNDOa1zs"
   },
   "outputs": [],
   "source": [
    "# Define the hyperparameters to tune.\n",
    "params = {'rf__n_estimators':range(10,100,10),'rf__max_depth':range(2,5),'rf__min_samples_split':range(2,5)}"
   ]
  },
  {
   "cell_type": "code",
   "execution_count": 82,
   "metadata": {
    "colab": {
     "background_save": true
    },
    "id": "NWaMWOH6Kdho"
   },
   "outputs": [
    {
     "data": {
      "text/plain": [
       "GridSearchCV(estimator=Pipeline(steps=[('step',\n",
       "                                        ColumnTransformer(transformers=[('categorical',\n",
       "                                                                         OneHotEncoder(),\n",
       "                                                                         Index(['store_and_fwd_flag'], dtype='object')),\n",
       "                                                                        ('numerical',\n",
       "                                                                         StandardScaler(),\n",
       "                                                                         Index(['VendorID', 'passenger_count', 'trip_distance', 'RatecodeID',\n",
       "       'PULocationID', 'DOLocationID', 'payment_type', 'fare_amount', 'extra',\n",
       "       'mta_tax', 'tip_amount', 'tolls_amount', 'improvement_surcharge',\n",
       "       'congestion_surcharge', 'airport_fee', 'trip_duration'],\n",
       "      dtype='object'))])),\n",
       "                                       ('rf', RandomForestRegressor())]),\n",
       "             param_grid={'rf__max_depth': range(2, 5),\n",
       "                         'rf__min_samples_split': range(2, 5),\n",
       "                         'rf__n_estimators': range(10, 100, 10)})"
      ]
     },
     "execution_count": 82,
     "metadata": {},
     "output_type": "execute_result"
    }
   ],
   "source": [
    "# Perform grid search to find the best hyperparameters. This could take a while.\n",
    "model = RandomForestRegressor()\n",
    "pipeline = Pipeline([('step',col_trans),('rf',model)])\n",
    "search = GridSearchCV(pipeline,params)\n",
    "search.fit(X_train,y_train)"
   ]
  },
  {
   "cell_type": "code",
   "execution_count": 101,
   "metadata": {
    "id": "_JO-wsm7a58f"
   },
   "outputs": [],
   "source": [
    "# Get the best model and its parameters.\n",
    "best_model = search.best_estimator_\n",
    "best_params = best_model.get_params()"
   ]
  },
  {
   "cell_type": "code",
   "execution_count": 99,
   "metadata": {
    "colab": {
     "background_save": true
    },
    "id": "W7ier_bt23RS"
   },
   "outputs": [
    {
     "data": {
      "text/plain": [
       "Pipeline(steps=[('step',\n",
       "                 ColumnTransformer(transformers=[('categorical',\n",
       "                                                  OneHotEncoder(),\n",
       "                                                  Index(['store_and_fwd_flag'], dtype='object')),\n",
       "                                                 ('numerical', StandardScaler(),\n",
       "                                                  Index(['VendorID', 'passenger_count', 'trip_distance', 'RatecodeID',\n",
       "       'PULocationID', 'DOLocationID', 'payment_type', 'fare_amount', 'extra',\n",
       "       'mta_tax', 'tip_amount', 'tolls_amount', 'improvement_surcharge',\n",
       "       'congestion_surcharge', 'airport_fee', 'trip_duration'],\n",
       "      dtype='object'))])),\n",
       "                ('rf',\n",
       "                 RandomForestRegressor(max_depth=4, min_samples_split=3,\n",
       "                                       n_estimators=40))])"
      ]
     },
     "execution_count": 99,
     "metadata": {},
     "output_type": "execute_result"
    }
   ],
   "source": [
    "# Fit the best classifier on the training data.\n",
    "best_model.fit(X_train,y_train)"
   ]
  },
  {
   "cell_type": "code",
   "execution_count": 105,
   "metadata": {
    "colab": {
     "background_save": true
    },
    "id": "ZHPrwD41tq13"
   },
   "outputs": [
    {
     "name": "stdout",
     "output_type": "stream",
     "text": [
      "optimized msa: 1.8268380860739786\n"
     ]
    }
   ],
   "source": [
    "# Make predictions on the test data\n",
    "# Model performs worse on data when optimized with grid search.\n",
    "# Perhaps I should use cross-validation next time to retrieve a more accurate assessment?\n",
    "preds = best_model.predict(X_test)\n",
    "msa_best = mean_absolute_error(y_test, preds)\n",
    "print(\"optimized msa:\", msa_best)"
   ]
  },
  {
   "cell_type": "code",
   "execution_count": null,
   "metadata": {},
   "outputs": [],
   "source": []
  }
 ],
 "metadata": {
  "colab": {
   "provenance": []
  },
  "kernelspec": {
   "display_name": "Python 3 (ipykernel)",
   "language": "python",
   "name": "python3"
  },
  "language_info": {
   "codemirror_mode": {
    "name": "ipython",
    "version": 3
   },
   "file_extension": ".py",
   "mimetype": "text/x-python",
   "name": "python",
   "nbconvert_exporter": "python",
   "pygments_lexer": "ipython3",
   "version": "3.9.12"
  }
 },
 "nbformat": 4,
 "nbformat_minor": 1
}
